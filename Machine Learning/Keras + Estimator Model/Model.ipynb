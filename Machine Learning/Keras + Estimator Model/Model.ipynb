{
 "cells": [
  {
   "cell_type": "markdown",
   "metadata": {},
   "source": [
    "<h1> Taxi Fare Prediction using Keras and Tensorflow Estimator </h1>"
   ]
  },
  {
   "cell_type": "code",
   "execution_count": 1,
   "metadata": {},
   "outputs": [],
   "source": [
    "import tensorflow as tf\n",
    "from tensorflow import keras\n",
    "import pandas as pd\n",
    "import seaborn as sns\n",
    "import matplotlib.pyplot as plt\n",
    "from sklearn import preprocessing\n",
    "from sklearn.model_selection import train_test_split\n",
    "from dataset import *\n",
    "\n",
    "import warnings\n",
    "warnings.filterwarnings('ignore')\n",
    "\n",
    "tf.compat.v1.logging.set_verbosity(tf.compat.v1.logging.INFO)"
   ]
  },
  {
   "cell_type": "code",
   "execution_count": 2,
   "metadata": {},
   "outputs": [],
   "source": [
    "# Parameters\n",
    "TRAIN_PATH = 'tf_train.csv'\n",
    "VALIDATION_PATH = 'tf_validation.csv'\n",
    "TEST_PATH = 'test_processed.csv'\n",
    "MODEL_DIR = 'model_1'\n",
    "OUTPUT_NAME = 'output_keras.csv'"
   ]
  },
  {
   "cell_type": "code",
   "execution_count": 4,
   "metadata": {},
   "outputs": [],
   "source": [
    "# Hyperparameters\n",
    "LEARNING_RATE = 0.0001\n",
    "STEPS = 200000\n",
    "BATCH_SIZE = 512\n",
    "DATASET_SIZE = 500000"
   ]
  },
  {
   "cell_type": "code",
   "execution_count": 5,
   "metadata": {},
   "outputs": [],
   "source": [
    "CSV_COLUMNS = ['key', 'fare_amount', 'pickup_datetime', 'pickup_longitude', 'pickup_latitude', 'dropoff_longitude',\n",
    "               'dropoff_latitude', 'passenger_count', 'year', 'month', 'day', 'hour', 'weekday', 'night', 'late_night']\n",
    "LABEL_COLUMN = 'fare_amount'\n",
    "DEFAULTS = [['nokey'], [1.0], ['2009-06-15 17:26:21 UTC'], [-74.0], [40.0], [-74.0], [40.7], [1.0], [2009], [6], [15],\n",
    "            [17], [1], [1], [1]]"
   ]
  },
  {
   "cell_type": "code",
   "execution_count": 6,
   "metadata": {},
   "outputs": [],
   "source": [
    "def process(df):\n",
    "    df['pickup_longitude_binned'] = pd.qcut(df['pickup_longitude'], 16, labels=False)\n",
    "    df['dropoff_longitude_binned'] = pd.qcut(df['dropoff_longitude'], 16, labels=False)\n",
    "    df['pickup_latitude_binned'] = pd.qcut(df['pickup_latitude'], 16, labels=False)\n",
    "    df['dropoff_latitude_binned'] = pd.qcut(df['dropoff_latitude'], 16, labels=False)\n",
    "\n",
    "    df = df.drop('pickup_datetime', axis=1)\n",
    "\n",
    "    return df"
   ]
  },
  {
   "cell_type": "code",
   "execution_count": 7,
   "metadata": {},
   "outputs": [],
   "source": [
    "def process_test(df):\n",
    "    #df = df.drop('pickup_datetime', axis=1)\n",
    "    \n",
    "    df['pickup_longitude_binned'] = pd.qcut(df['pickup_longitude'], 16, labels=False)\n",
    "    df['dropoff_longitude_binned'] = pd.qcut(df['dropoff_longitude'], 16, labels=False)\n",
    "    df['pickup_latitude_binned'] = pd.qcut(df['pickup_latitude'], 16, labels=False)\n",
    "    df['dropoff_latitude_binned'] = pd.qcut(df['dropoff_latitude'], 16, labels=False)\n",
    "\n",
    "\n",
    "    return df"
   ]
  },
  {
   "cell_type": "code",
   "execution_count": 8,
   "metadata": {},
   "outputs": [],
   "source": [
    "def manhattan(pickup_lat, pickup_long, dropoff_lat, dropoff_long):\n",
    "    return np.abs(dropoff_lat - pickup_lat) + np.abs(dropoff_long - pickup_long)"
   ]
  },
  {
   "cell_type": "code",
   "execution_count": 9,
   "metadata": {},
   "outputs": [],
   "source": [
    "def add_relevant_distances(df):\n",
    "    # Add airpot distances and downtown\n",
    "    ny = (-74.0063889, 40.7141667)\n",
    "    jfk = (-73.7822222222, 40.6441666667)\n",
    "    ewr = (-74.175, 40.69)\n",
    "    lgr = (-73.87, 40.77)\n",
    "    df['downtown_pickup_distance'] = manhattan(ny[1], ny[0], df['pickup_latitude'], df['pickup_longitude'])\n",
    "    df['downtown_dropoff_distance'] = manhattan(ny[1], ny[0], df['dropoff_latitude'], df['dropoff_longitude'])\n",
    "    df['jfk_pickup_distance'] = manhattan(jfk[1], jfk[0], df['pickup_latitude'], df['pickup_longitude'])\n",
    "    df['jfk_dropoff_distance'] = manhattan(jfk[1], jfk[0], df['dropoff_latitude'], df['dropoff_longitude'])\n",
    "    df['ewr_pickup_distance'] = manhattan(ewr[1], ewr[0], df['pickup_latitude'], df['pickup_longitude'])\n",
    "    df['ewr_dropoff_distance'] = manhattan(ewr[1], ewr[0], df['dropoff_latitude'], df['dropoff_longitude'])\n",
    "    df['lgr_pickup_distance'] = manhattan(lgr[1], lgr[0], df['pickup_latitude'], df['pickup_longitude'])\n",
    "    df['lgr_dropoff_distance'] = manhattan(lgr[1], lgr[0], df['dropoff_latitude'], df['dropoff_longitude'])\n",
    "\n",
    "    return df"
   ]
  },
  {
   "cell_type": "code",
   "execution_count": 10,
   "metadata": {},
   "outputs": [],
   "source": [
    "def add_engineered(df):\n",
    "    lat1 = df['pickup_latitude']\n",
    "    lat2 = df['dropoff_latitude']\n",
    "    lon1 = df['pickup_longitude']\n",
    "    lon2 = df['dropoff_longitude']\n",
    "\n",
    "    latdiff = (lat1 - lat2)\n",
    "    londiff = (lon1 - lon2)\n",
    "    euclidean = (latdiff ** 2 + londiff ** 2) ** 0.5\n",
    "\n",
    "    # Add new features\n",
    "    df['latdiff'] = latdiff\n",
    "    df['londiff'] = londiff\n",
    "    df['euclidean'] = euclidean\n",
    "    df['manhattan'] = manhattan(lat1, lon1, lat2, lon2)\n",
    "\n",
    "    # One-hot encoding columns\n",
    "    # Note, this is note the best way to one-hot encode features, but probably the simplest and will work here\n",
    "    df = pd.get_dummies(df, columns=['weekday'])\n",
    "    df = pd.get_dummies(df, columns=['month'])\n",
    "\n",
    "    return df"
   ]
  },
  {
   "cell_type": "code",
   "execution_count": 11,
   "metadata": {},
   "outputs": [],
   "source": [
    "def input_function(features, labels=None, shuffle=False):\n",
    "    input_fn = tf.compat.v1.estimator.inputs.numpy_input_fn(\n",
    "        x={\"raw_input\": features},\n",
    "        y=labels,\n",
    "        shuffle=shuffle\n",
    "    )\n",
    "    return input_fn"
   ]
  },
  {
   "cell_type": "code",
   "execution_count": 12,
   "metadata": {},
   "outputs": [],
   "source": [
    "def read_dataset2(filename, mode, features_cols, label_col, default_value, batch_size=512):\n",
    "    def _input_fn():\n",
    "        def decode_csv(value_column):\n",
    "            columns = tf.io.decode_csv(records=value_column, record_defaults=default_value)\n",
    "            features = dict(zip(features_cols, columns))\n",
    "            label = features.pop(label_col)\n",
    "\n",
    "            features = tf.cast(features, dtype=tf.float32)\n",
    "            features = {\"raw_input\": add_engineered(features)}\n",
    "            label = tf.cast(label, dtype=tf.float32)\n",
    "            return features, label\n",
    "\n",
    "        # Create list of file names that match \"glob\" pattern (i.e. data_file_*.csv)\n",
    "        filenames_dataset = tf.data.Dataset.list_files(filename)\n",
    "        # Read lines from text files\n",
    "        # use tf.data.Dataset.flat_map to apply one to many transformations (here: filename -> text lines)\n",
    "        textlines_dataset = filenames_dataset.flat_map(tf.data.TextLineDataset)\n",
    "        # Parse text lines as comma-separated values (CSV)\n",
    "        # use tf.data.Dataset.map      to apply one to one  transformations (here: text line -> feature list)\n",
    "        dataset = textlines_dataset.map(decode_csv)\n",
    "\n",
    "        if mode == tf.estimator.ModeKeys.TRAIN:\n",
    "            num_epochs = None  # loop indefinitely\n",
    "            dataset = dataset.shuffle(buffer_size=10 * batch_size)\n",
    "        elif mode == tf.estimator.ModeKeys.EVAL:\n",
    "            num_epochs = 1  # end-of-input after this\n",
    "        else:\n",
    "            num_epochs = 1  # end-of-input after this\n",
    "\n",
    "        dataset = dataset.repeat(num_epochs).batch(batch_size)\n",
    "        batch_features, batch_labels = tf.compat.v1.data.make_one_shot_iterator(dataset).get_next()\n",
    "\n",
    "        return batch_features, batch_labels\n",
    "\n",
    "    return _input_fn\n"
   ]
  },
  {
   "cell_type": "code",
   "execution_count": 13,
   "metadata": {},
   "outputs": [],
   "source": [
    "# Load values in a more compact form\n",
    "dtype_train = {'key': 'str',\n",
    "             'fare_amount': 'float32',\n",
    "             'pickup_datetime': 'str',\n",
    "             'pickup_longitude': 'float32',\n",
    "             'pickup_latitude': 'float32',\n",
    "             'dropoff_longitude': 'float32',\n",
    "             'dropoff_latitude': 'float32',\n",
    "             'passenger_count': 'uint8',\n",
    "             'year': 'uint16',\n",
    "             'month': 'uint8',\n",
    "             'day': 'uint8',\n",
    "             'hour': 'uint8',\n",
    "             'weekday': 'uint8',\n",
    "             'night': 'uint8',\n",
    "             'late_night': 'uint8'}\n",
    "\n",
    "dnames_train = ['key', 'fare_amount', 'pickup_datetime', 'pickup_longitude', 'pickup_latitude', 'dropoff_longitude', 'dropoff_latitude',\n",
    "              'passenger_count', 'year', 'month', 'day', 'hour', 'weekday', 'night', 'late_night']\n",
    "\n",
    "dtype_test = {'key': 'str',\n",
    "             'pickup_datetime': 'str',\n",
    "             'pickup_longitude': 'float32',\n",
    "             'pickup_latitude': 'float32',\n",
    "             'dropoff_longitude': 'float32',\n",
    "             'dropoff_latitude': 'float32',\n",
    "             'passenger_count': 'uint8',\n",
    "             'year': 'uint16',\n",
    "             'month': 'uint8',\n",
    "             'day': 'uint8',\n",
    "             'hour': 'uint8',\n",
    "             'weekday': 'uint8',\n",
    "             'night': 'uint8',\n",
    "             'late_night': 'uint8'}\n",
    "\n",
    "dnames_test = ['key', 'pickup_datetime', 'pickup_longitude', 'pickup_latitude', 'dropoff_longitude', 'dropoff_latitude',\n",
    "              'passenger_count', 'year', 'month', 'day', 'hour', 'weekday', 'night', 'late_night']"
   ]
  },
  {
   "cell_type": "code",
   "execution_count": 14,
   "metadata": {},
   "outputs": [],
   "source": [
    "train = pd.read_csv(TRAIN_PATH, nrows=DATASET_SIZE, names=dnames_train, dtype=dtype_train, usecols=[1, 2, 3, 4, 5, 6, 8, 9, 10, 11, 12, 13, 14])\n",
    "test = pd.read_csv(TEST_PATH, names=dnames_test, dtype=dtype_test, usecols=[0, 1, 2, 3, 4, 5, 7, 8, 9, 10, 11, 12, 13])"
   ]
  },
  {
   "cell_type": "code",
   "execution_count": 15,
   "metadata": {},
   "outputs": [
    {
     "data": {
      "image/png": "[encoded data removed]",
      "text/plain": [
       "<Figure size 432x288 with 2 Axes>"
      ]
     },
     "metadata": {
      "needs_background": "light"
     },
     "output_type": "display_data"
    }
   ],
   "source": [
    "sns.heatmap(train.corr())\n",
    "plt.show()"
   ]
  },
  {
   "cell_type": "code",
   "execution_count": 16,
   "metadata": {},
   "outputs": [
    {
     "data": {
      "image/png": "[encoded data removed]",
      "text/plain": [
       "<Figure size 1008x216 with 1 Axes>"
      ]
     },
     "metadata": {},
     "output_type": "display_data"
    }
   ],
   "source": [
    "# matplotlib inline\n",
    "plt.style.use('seaborn-whitegrid')\n",
    "\n",
    "# Plot histogram of fare\n",
    "train.fare_amount.hist(bins=200, figsize=(14,3))\n",
    "plt.xlabel('Fare in $USD')\n",
    "plt.title('Histogram of fare amount');"
   ]
  },
  {
   "cell_type": "code",
   "execution_count": 17,
   "metadata": {},
   "outputs": [
    {
     "data": {
      "image/png": "[encoded data removed]",
      "text/plain": [
       "<Figure size 720x360 with 1 Axes>"
      ]
     },
     "metadata": {},
     "output_type": "display_data"
    }
   ],
   "source": [
    "# Plot histogram of fares per hour\n",
    "plt.figure(figsize = (10,5))\n",
    "train_2 = train.groupby('hour', as_index = False)['fare_amount'].agg(['count']).sort_values(by = 'hour', ascending = True)\n",
    "ax = sns.barplot(x=train_2.index, y=train_2['count'])\n",
    "ax.set(xlabel='Hour', ylabel='No of fares')  \n",
    "plt.title('Number of fares per hour')\n",
    "plt.tight_layout()\n",
    "plt.show()\n",
    "del train_2"
   ]
  },
  {
   "cell_type": "code",
   "execution_count": 18,
   "metadata": {},
   "outputs": [
    {
     "data": {
      "image/png": "[encoded data removed]",
      "text/plain": [
       "<Figure size 720x360 with 1 Axes>"
      ]
     },
     "metadata": {},
     "output_type": "display_data"
    }
   ],
   "source": [
    "# Plot histogram of fares per weekday\n",
    "plt.figure(figsize = (10,5))\n",
    "train_3 = train.groupby('weekday', as_index = False)['fare_amount'].agg(['count']).sort_values(by = 'weekday', ascending = True)\n",
    "ax = sns.barplot(x=train_3.index, y=train_3['count'])\n",
    "ax.set(xlabel='weekday', ylabel='No of fares')  \n",
    "plt.title('Number of fares per weekday')\n",
    "plt.tight_layout()\n",
    "plt.show()\n",
    "del train_3"
   ]
  },
  {
   "cell_type": "code",
   "execution_count": 19,
   "metadata": {},
   "outputs": [],
   "source": [
    "# process data\n",
    "train = process(train)\n",
    "test = process(test)\n",
    "\n",
    "train = add_relevant_distances(train)\n",
    "test = add_relevant_distances(test)\n",
    "\n",
    "train = add_engineered(train)\n",
    "test = add_engineered(test)\n",
    "\n",
    "# Drop unwanted columns\n",
    "dropped_columns = ['pickup_longitude', 'pickup_latitude',\n",
    "                   'dropoff_longitude', 'dropoff_latitude']\n",
    "train_clean = train.drop(dropped_columns, axis=1)\n",
    "test_clean = test.drop(dropped_columns + ['key'], axis=1)"
   ]
  },
  {
   "cell_type": "code",
   "execution_count": 20,
   "metadata": {},
   "outputs": [],
   "source": [
    "# split data in train and validation (90% ~ 10%)\n",
    "train_df, validation_df = train_test_split(train_clean, test_size=0.10, random_state=1)"
   ]
  },
  {
   "cell_type": "code",
   "execution_count": 21,
   "metadata": {},
   "outputs": [],
   "source": [
    "# Get labels\n",
    "train_labels = train_df['fare_amount'].values\n",
    "validation_labels = validation_df['fare_amount'].values\n",
    "train_df = train_df.drop(['fare_amount'], axis=1)\n",
    "validation_df = validation_df.drop(['fare_amount'], axis=1)"
   ]
  },
  {
   "cell_type": "code",
   "execution_count": 22,
   "metadata": {},
   "outputs": [],
   "source": [
    "# Scale data\n",
    "scaler = preprocessing.MinMaxScaler()\n",
    "train_df_scaled = scaler.fit_transform(train_df).astype(np.float32)\n",
    "validation_df_scaled = scaler.transform(validation_df).astype(np.float32)\n",
    "test_scaled = scaler.transform(test_clean).astype(np.float32)"
   ]
  },
  {
   "cell_type": "code",
   "execution_count": 40,
   "metadata": {},
   "outputs": [],
   "source": [
    "model = keras.models.Sequential()\n",
    "model.add(keras.layers.Dense(512, activation='relu', input_shape=(train_df_scaled.shape[1],), name='raw'))\n",
    "model.add(keras.layers.BatchNormalization())\n",
    "model.add(keras.layers.Dense(256, activation='relu'))\n",
    "model.add(keras.layers.BatchNormalization())\n",
    "model.add(keras.layers.Dense(128, activation='relu'))\n",
    "model.add(keras.layers.BatchNormalization())\n",
    "model.add(keras.layers.Dense(64, activation='relu'))\n",
    "model.add(keras.layers.BatchNormalization())\n",
    "model.add(keras.layers.Dense(32, activation='relu'))\n",
    "model.add(keras.layers.BatchNormalization())\n",
    "model.add(keras.layers.Dense(16, activation='relu'))\n",
    "model.add(keras.layers.BatchNormalization())\n",
    "model.add(keras.layers.Dense(1, activation='linear', name='predictions'))"
   ]
  },
  {
   "cell_type": "code",
   "execution_count": 41,
   "metadata": {},
   "outputs": [
    {
     "name": "stdout",
     "output_type": "stream",
     "text": [
      "Model: \"sequential_3\"\n",
      "_________________________________________________________________\n",
      "Layer (type)                 Output Shape              Param #   \n",
      "=================================================================\n",
      "raw (Dense)                  (None, 512)               20992     \n",
      "_________________________________________________________________\n",
      "batch_normalization_18 (Batc (None, 512)               2048      \n",
      "_________________________________________________________________\n",
      "dense_15 (Dense)             (None, 256)               131328    \n",
      "_________________________________________________________________\n",
      "batch_normalization_19 (Batc (None, 256)               1024      \n",
      "_________________________________________________________________\n",
      "dense_16 (Dense)             (None, 128)               32896     \n",
      "_________________________________________________________________\n",
      "batch_normalization_20 (Batc (None, 128)               512       \n",
      "_________________________________________________________________\n",
      "dense_17 (Dense)             (None, 64)                8256      \n",
      "_________________________________________________________________\n",
      "batch_normalization_21 (Batc (None, 64)                256       \n",
      "_________________________________________________________________\n",
      "dense_18 (Dense)             (None, 32)                2080      \n",
      "_________________________________________________________________\n",
      "batch_normalization_22 (Batc (None, 32)                128       \n",
      "_________________________________________________________________\n",
      "dense_19 (Dense)             (None, 16)                528       \n",
      "_________________________________________________________________\n",
      "batch_normalization_23 (Batc (None, 16)                64        \n",
      "_________________________________________________________________\n",
      "predictions (Dense)          (None, 1)                 17        \n",
      "=================================================================\n",
      "Total params: 200,129\n",
      "Trainable params: 198,113\n",
      "Non-trainable params: 2,016\n",
      "_________________________________________________________________\n"
     ]
    }
   ],
   "source": [
    "model.summary()"
   ]
  },
  {
   "cell_type": "code",
   "execution_count": 42,
   "metadata": {},
   "outputs": [],
   "source": [
    "adam = keras.optimizers.Adam(lr=LEARNING_RATE)\n",
    "model.compile(loss=\"mae\", optimizer=adam, metrics=['mae', 'mse'])"
   ]
  },
  {
   "cell_type": "code",
   "execution_count": 43,
   "metadata": {},
   "outputs": [],
   "source": [
    "run_config = tf.compat.v1.estimator.RunConfig(model_dir=MODEL_DIR, save_summary_steps=5000, save_checkpoints_steps=5000)\n",
    "train_spec = tf.compat.v1.estimator.TrainSpec(input_fn=input_function(train_df_scaled, train_labels, True),\n",
    "                                    max_steps=STEPS)\n",
    "eval_spec = tf.compat.v1.estimator.EvalSpec(input_fn=input_function(validation_df_scaled, validation_labels, True),\n",
    "                                  steps=1000, throttle_secs=300)"
   ]
  },
  {
   "cell_type": "code",
   "execution_count": 44,
   "metadata": {},
   "outputs": [
    {
     "name": "stdout",
     "output_type": "stream",
     "text": [
      "INFO:tensorflow:Using the Keras model provided.\n",
      "INFO:tensorflow:Using config: {'_model_dir': 'model_1', '_tf_random_seed': None, '_save_summary_steps': 5000, '_save_checkpoints_steps': 5000, '_save_checkpoints_secs': None, '_session_config': allow_soft_placement: true\n",
      "graph_options {\n",
      "  rewrite_options {\n",
      "    meta_optimizer_iterations: ONE\n",
      "  }\n",
      "}\n",
      ", '_keep_checkpoint_max': 5, '_keep_checkpoint_every_n_hours': 10000, '_log_step_count_steps': 100, '_train_distribute': None, '_device_fn': None, '_protocol': None, '_eval_distribute': None, '_experimental_distribute': None, '_experimental_max_worker_delay_secs': None, '_session_creation_timeout_secs': 7200, '_checkpoint_save_graph_def': True, '_service': None, '_cluster_spec': ClusterSpec({}), '_task_type': 'worker', '_task_id': 0, '_global_id_in_cluster': 0, '_master': '', '_evaluation_master': '', '_is_chief': True, '_num_ps_replicas': 0, '_num_worker_replicas': 1}\n",
      "INFO:tensorflow:Not using Distribute Coordinator.\n",
      "INFO:tensorflow:Running training and evaluation locally (non-distributed).\n",
      "INFO:tensorflow:Start train and evaluate loop. The evaluate will happen after every checkpoint. Checkpoint frequency is determined based on RunConfig arguments: save_checkpoints_steps 5000 or save_checkpoints_secs None.\n",
      "INFO:tensorflow:Calling model_fn.\n",
      "INFO:tensorflow:Done calling model_fn.\n",
      "INFO:tensorflow:Create CheckpointSaverHook.\n",
      "INFO:tensorflow:Graph was finalized.\n",
      "INFO:tensorflow:Restoring parameters from model_1\\model.ckpt-6560\n",
      "INFO:tensorflow:Running local_init_op.\n",
      "INFO:tensorflow:Done running local_init_op.\n",
      "INFO:tensorflow:Calling checkpoint listeners before saving checkpoint 6560...\n",
      "INFO:tensorflow:Saving checkpoints for 6560 into model_1\\model.ckpt.\n",
      "INFO:tensorflow:Calling checkpoint listeners after saving checkpoint 6560...\n",
      "INFO:tensorflow:loss = 2.3285065, step = 6560\n",
      "INFO:tensorflow:global_step/sec: 41.277\n",
      "INFO:tensorflow:loss = 4.8569703, step = 6660 (2.426 sec)\n",
      "INFO:tensorflow:global_step/sec: 89.1359\n",
      "INFO:tensorflow:loss = 3.8574016, step = 6760 (1.120 sec)\n",
      "INFO:tensorflow:global_step/sec: 88.3327\n",
      "INFO:tensorflow:loss = 2.1779647, step = 6860 (1.132 sec)\n",
      "INFO:tensorflow:global_step/sec: 87.0063\n",
      "INFO:tensorflow:loss = 3.018765, step = 6960 (1.150 sec)\n",
      "INFO:tensorflow:global_step/sec: 86.2564\n",
      "INFO:tensorflow:loss = 4.090184, step = 7060 (1.159 sec)\n",
      "INFO:tensorflow:global_step/sec: 88.234\n",
      "INFO:tensorflow:loss = 3.0802174, step = 7160 (1.132 sec)\n",
      "INFO:tensorflow:global_step/sec: 87.9985\n",
      "INFO:tensorflow:loss = 3.462109, step = 7260 (1.137 sec)\n",
      "INFO:tensorflow:global_step/sec: 88.8575\n",
      "INFO:tensorflow:loss = 4.585901, step = 7360 (1.125 sec)\n",
      "INFO:tensorflow:global_step/sec: 87.3593\n",
      "INFO:tensorflow:loss = 3.4251947, step = 7460 (1.144 sec)\n",
      "INFO:tensorflow:global_step/sec: 90.5488\n",
      "INFO:tensorflow:loss = 3.2746134, step = 7560 (1.104 sec)\n",
      "INFO:tensorflow:global_step/sec: 90.0605\n",
      "INFO:tensorflow:loss = 2.8499002, step = 7660 (1.112 sec)\n",
      "INFO:tensorflow:global_step/sec: 88.9472\n",
      "INFO:tensorflow:loss = 2.8811076, step = 7760 (1.122 sec)\n",
      "INFO:tensorflow:global_step/sec: 87.9613\n",
      "INFO:tensorflow:loss = 3.7933471, step = 7860 (1.137 sec)\n",
      "INFO:tensorflow:global_step/sec: 87.3169\n",
      "INFO:tensorflow:loss = 3.041948, step = 7960 (1.145 sec)\n",
      "INFO:tensorflow:global_step/sec: 86.5255\n",
      "INFO:tensorflow:loss = 3.434044, step = 8060 (1.156 sec)\n",
      "INFO:tensorflow:global_step/sec: 90.4679\n",
      "INFO:tensorflow:loss = 4.2159925, step = 8160 (1.107 sec)\n",
      "INFO:tensorflow:global_step/sec: 92.4758\n",
      "INFO:tensorflow:loss = 3.0913866, step = 8260 (1.081 sec)\n",
      "INFO:tensorflow:global_step/sec: 88.3497\n",
      "INFO:tensorflow:loss = 3.1582792, step = 8360 (1.131 sec)\n",
      "INFO:tensorflow:global_step/sec: 82.7604\n",
      "INFO:tensorflow:loss = 2.8793468, step = 8460 (1.208 sec)\n",
      "INFO:tensorflow:global_step/sec: 88.9617\n",
      "INFO:tensorflow:loss = 3.1646624, step = 8560 (1.124 sec)\n",
      "INFO:tensorflow:global_step/sec: 69.1211\n",
      "INFO:tensorflow:loss = 2.6665974, step = 8660 (1.447 sec)\n",
      "INFO:tensorflow:global_step/sec: 73.3368\n",
      "INFO:tensorflow:loss = 2.7952137, step = 8760 (1.369 sec)\n",
      "INFO:tensorflow:global_step/sec: 94.2195\n",
      "INFO:tensorflow:loss = 3.260114, step = 8860 (1.056 sec)\n",
      "INFO:tensorflow:global_step/sec: 90.3861\n",
      "INFO:tensorflow:loss = 3.5788093, step = 8960 (1.105 sec)\n",
      "INFO:tensorflow:global_step/sec: 91.5437\n",
      "INFO:tensorflow:loss = 2.9260929, step = 9060 (1.093 sec)\n",
      "INFO:tensorflow:global_step/sec: 86.4553\n",
      "INFO:tensorflow:loss = 2.6470494, step = 9160 (1.156 sec)\n",
      "INFO:tensorflow:global_step/sec: 91.8334\n",
      "INFO:tensorflow:loss = 3.1101346, step = 9260 (1.089 sec)\n",
      "INFO:tensorflow:global_step/sec: 78.9095\n",
      "INFO:tensorflow:loss = 3.081839, step = 9360 (1.267 sec)\n",
      "INFO:tensorflow:global_step/sec: 90.223\n",
      "INFO:tensorflow:loss = 3.4192033, step = 9460 (1.108 sec)\n",
      "INFO:tensorflow:global_step/sec: 90.7959\n",
      "INFO:tensorflow:loss = 3.6472564, step = 9560 (1.102 sec)\n",
      "INFO:tensorflow:global_step/sec: 87.4619\n",
      "INFO:tensorflow:loss = 3.0035179, step = 9660 (1.143 sec)\n",
      "INFO:tensorflow:global_step/sec: 93.0775\n",
      "INFO:tensorflow:loss = 2.0949335, step = 9760 (1.074 sec)\n",
      "INFO:tensorflow:Calling checkpoint listeners before saving checkpoint 9840...\n",
      "INFO:tensorflow:Saving checkpoints for 9840 into model_1\\model.ckpt.\n",
      "INFO:tensorflow:Calling checkpoint listeners after saving checkpoint 9840...\n",
      "INFO:tensorflow:Calling model_fn.\n",
      "INFO:tensorflow:Done calling model_fn.\n",
      "INFO:tensorflow:Starting evaluation at 2021-06-03T19:05:03Z\n",
      "INFO:tensorflow:Graph was finalized.\n",
      "INFO:tensorflow:Restoring parameters from model_1\\model.ckpt-9840\n",
      "INFO:tensorflow:Running local_init_op.\n",
      "INFO:tensorflow:Done running local_init_op.\n",
      "INFO:tensorflow:Evaluation [100/1000]\n",
      "INFO:tensorflow:Evaluation [200/1000]\n",
      "INFO:tensorflow:Evaluation [300/1000]\n",
      "INFO:tensorflow:Inference Time : 2.47820s\n",
      "INFO:tensorflow:Finished evaluation at 2021-06-03-19:05:06\n",
      "INFO:tensorflow:Saving dict for global step 9840: global_step = 9840, loss = 2.795886, mae = 2.795886, mse = 38.126583\n",
      "INFO:tensorflow:Saving 'checkpoint_path' summary for global step 9840: model_1\\model.ckpt-9840\n",
      "INFO:tensorflow:Loss for final step: 9.397178.\n"
     ]
    },
    {
     "data": {
      "text/plain": [
       "({'loss': 2.795886, 'mae': 2.795886, 'mse': 38.126583, 'global_step': 9840},\n",
       " [])"
      ]
     },
     "execution_count": 44,
     "metadata": {},
     "output_type": "execute_result"
    }
   ],
   "source": [
    "estimator = keras.estimator.model_to_estimator(keras_model=model, config=run_config)\n",
    "tf.estimator.train_and_evaluate(estimator, train_spec=train_spec, eval_spec=eval_spec)"
   ]
  },
  {
   "cell_type": "code",
   "execution_count": 46,
   "metadata": {},
   "outputs": [
    {
     "name": "stdout",
     "output_type": "stream",
     "text": [
      "INFO:tensorflow:Calling model_fn.\n",
      "INFO:tensorflow:Done calling model_fn.\n",
      "INFO:tensorflow:Graph was finalized.\n",
      "INFO:tensorflow:Restoring parameters from model_1\\model.ckpt-9840\n",
      "INFO:tensorflow:Running local_init_op.\n",
      "INFO:tensorflow:Done running local_init_op.\n",
      "Output complete\n"
     ]
    }
   ],
   "source": [
    "OUTPUT_NAME = 'sample_submission.csv'\n",
    "prediction = estimator.predict(input_function(test_scaled))\n",
    "\n",
    "prediction_df = pd.DataFrame(prediction)\n",
    "output_submission(test, prediction_df, 'key', 'fare_amount', OUTPUT_NAME)"
   ]
  },
  {
   "cell_type": "code",
   "execution_count": 47,
   "metadata": {},
   "outputs": [],
   "source": [
    "def serving_input_fn():\n",
    "    feature_placeholders = {\n",
    "        'raw_input' : tf.compat.v1.placeholder(tf.float32, [1, 40, None])\n",
    "    }\n",
    "    features = {\n",
    "        key: tf.expand_dims(tensor, -1)\n",
    "        for key, tensor in feature_placeholders.items()\n",
    "    }\n",
    "    return tf.estimator.export.ServingInputReceiver(features, \n",
    "                                                    feature_placeholders)"
   ]
  },
  {
   "cell_type": "code",
   "execution_count": 48,
   "metadata": {},
   "outputs": [],
   "source": [
    "tf.compat.v1.disable_eager_execution()"
   ]
  },
  {
   "cell_type": "code",
   "execution_count": 49,
   "metadata": {},
   "outputs": [
    {
     "name": "stdout",
     "output_type": "stream",
     "text": [
      "INFO:tensorflow:Calling model_fn.\n",
      "INFO:tensorflow:Done calling model_fn.\n",
      "WARNING:tensorflow:From D:\\Anaconda\\envs\\tensorflow\\lib\\site-packages\\tensorflow\\python\\saved_model\\signature_def_utils_impl.py:200: build_tensor_info (from tensorflow.python.saved_model.utils_impl) is deprecated and will be removed in a future version.\n",
      "Instructions for updating:\n",
      "This function will only be available through the v1 compatibility library as tf.compat.v1.saved_model.utils.build_tensor_info or tf.compat.v1.saved_model.build_tensor_info.\n",
      "INFO:tensorflow:Signatures INCLUDED in export for Classify: None\n",
      "INFO:tensorflow:Signatures INCLUDED in export for Regress: None\n",
      "INFO:tensorflow:Signatures INCLUDED in export for Predict: ['serving_default']\n",
      "INFO:tensorflow:Signatures INCLUDED in export for Train: None\n",
      "INFO:tensorflow:Signatures INCLUDED in export for Eval: None\n",
      "INFO:tensorflow:Restoring parameters from model_1\\model.ckpt-9840\n",
      "INFO:tensorflow:Assets added to graph.\n",
      "INFO:tensorflow:No assets to write.\n",
      "INFO:tensorflow:SavedModel written to: keras_estimator_savedmodel\\temp-1622721938\\saved_model.pb\n"
     ]
    },
    {
     "data": {
      "text/plain": [
       "b'keras_estimator_savedmodel\\\\1622721938'"
      ]
     },
     "execution_count": 49,
     "metadata": {},
     "output_type": "execute_result"
    }
   ],
   "source": [
    "estimator.export_saved_model('keras_estimator_savedmodel', serving_input_fn)"
   ]
  },
  {
   "cell_type": "code",
   "execution_count": 50,
   "metadata": {},
   "outputs": [
    {
     "name": "stdout",
     "output_type": "stream",
     "text": [
      "Writing weight file ./keras_estimator_savedmodel/json_model\\model.json..."
     ]
    },
    {
     "name": "stderr",
     "output_type": "stream",
     "text": [
      "2021-06-03 19:05:59.017240: W tensorflow/stream_executor/platform/default/dso_loader.cc:60] Could not load dynamic library 'cudart64_110.dll'; dlerror: cudart64_110.dll not found\n",
      "2021-06-03 19:05:59.018278: I tensorflow/stream_executor/cuda/cudart_stub.cc:29] Ignore above cudart dlerror if you do not have a GPU set up on your machine.\n",
      "2021-06-03 19:06:41.183650: I tensorflow/compiler/jit/xla_cpu_device.cc:41] Not creating XLA devices, tf_xla_enable_xla_devices not set\n",
      "2021-06-03 19:06:41.274746: I tensorflow/stream_executor/platform/default/dso_loader.cc:49] Successfully opened dynamic library nvcuda.dll\n",
      "2021-06-03 19:06:42.417859: I tensorflow/core/common_runtime/gpu/gpu_device.cc:1720] Found device 0 with properties: \n",
      "pciBusID: 0000:04:00.0 name: GeForce 920M computeCapability: 3.5\n",
      "coreClock: 0.954GHz coreCount: 2 deviceMemorySize: 2.00GiB deviceMemoryBandwidth: 13.41GiB/s\n",
      "2021-06-03 19:06:42.424310: W tensorflow/stream_executor/platform/default/dso_loader.cc:60] Could not load dynamic library 'cudart64_110.dll'; dlerror: cudart64_110.dll not found\n",
      "2021-06-03 19:06:42.428361: W tensorflow/stream_executor/platform/default/dso_loader.cc:60] Could not load dynamic library 'cublas64_11.dll'; dlerror: cublas64_11.dll not found\n",
      "2021-06-03 19:06:42.433858: W tensorflow/stream_executor/platform/default/dso_loader.cc:60] Could not load dynamic library 'cublasLt64_11.dll'; dlerror: cublasLt64_11.dll not found\n",
      "2021-06-03 19:06:42.438531: W tensorflow/stream_executor/platform/default/dso_loader.cc:60] Could not load dynamic library 'cufft64_10.dll'; dlerror: cufft64_10.dll not found\n",
      "2021-06-03 19:06:42.443309: W tensorflow/stream_executor/platform/default/dso_loader.cc:60] Could not load dynamic library 'curand64_10.dll'; dlerror: curand64_10.dll not found\n",
      "2021-06-03 19:06:42.447654: W tensorflow/stream_executor/platform/default/dso_loader.cc:60] Could not load dynamic library 'cusolver64_10.dll'; dlerror: cusolver64_10.dll not found\n",
      "2021-06-03 19:06:42.455711: W tensorflow/stream_executor/platform/default/dso_loader.cc:60] Could not load dynamic library 'cusparse64_11.dll'; dlerror: cusparse64_11.dll not found\n",
      "2021-06-03 19:06:42.462511: W tensorflow/stream_executor/platform/default/dso_loader.cc:60] Could not load dynamic library 'cudnn64_8.dll'; dlerror: cudnn64_8.dll not found\n",
      "2021-06-03 19:06:42.463582: W tensorflow/core/common_runtime/gpu/gpu_device.cc:1757] Cannot dlopen some GPU libraries. Please make sure the missing libraries mentioned above are installed properly if you would like to use GPU. Follow the guide at https://www.tensorflow.org/install/gpu for how to download and setup the required libraries for your platform.\n",
      "Skipping registering GPU devices...\n",
      "2021-06-03 19:06:42.468344: I tensorflow/core/platform/cpu_feature_guard.cc:142] This TensorFlow binary is optimized with oneAPI Deep Neural Network Library (oneDNN) to use the following CPU instructions in performance-critical operations:  AVX2\n",
      "To enable them in other operations, rebuild TensorFlow with the appropriate compiler flags.\n",
      "2021-06-03 19:06:42.471208: I tensorflow/core/common_runtime/gpu/gpu_device.cc:1261] Device interconnect StreamExecutor with strength 1 edge matrix:\n",
      "2021-06-03 19:06:42.472239: I tensorflow/core/common_runtime/gpu/gpu_device.cc:1267]      \n",
      "2021-06-03 19:06:42.472763: I tensorflow/compiler/jit/xla_gpu_device.cc:99] Not creating XLA devices, tf_xla_enable_xla_devices not set\n",
      "2021-06-03 19:06:44.020889: I tensorflow/compiler/mlir/mlir_graph_optimization_pass.cc:116] None of the MLIR optimization passes are enabled (registered 2)\n",
      "WARNING:tensorflow:Issue encountered when serializing global_step.\n",
      "Type is unsupported, or the types of the items don't match field type in CollectionDef. Note this is a warning and probably safe to ignore.\n",
      "to_proto not supported in EAGER mode.\n",
      "WARNING:tensorflow:Issue encountered when serializing variables.\n",
      "Type is unsupported, or the types of the items don't match field type in CollectionDef. Note this is a warning and probably safe to ignore.\n",
      "to_proto not supported in EAGER mode.\n",
      "WARNING:tensorflow:Issue encountered when serializing trainable_variables.\n",
      "Type is unsupported, or the types of the items don't match field type in CollectionDef. Note this is a warning and probably safe to ignore."
     ]
    },
    {
     "name": "stdout",
     "output_type": "stream",
     "text": [
      "\n"
     ]
    },
    {
     "name": "stderr",
     "output_type": "stream",
     "text": [
      "\n",
      "to_proto not supported in EAGER mode.\n",
      "2021-06-03 19:06:45.363472: I tensorflow/core/grappler/devices.cc:69] Number of eligible GPUs (core count >= 8, compute capability >= 0.0): 0\n",
      "2021-06-03 19:06:45.509498: I tensorflow/core/grappler/clusters/single_machine.cc:356] Starting new session\n",
      "2021-06-03 19:06:45.518732: I tensorflow/core/common_runtime/gpu/gpu_device.cc:1720] Found device 0 with properties: \n",
      "pciBusID: 0000:04:00.0 name: GeForce 920M computeCapability: 3.5\n",
      "coreClock: 0.954GHz coreCount: 2 deviceMemorySize: 2.00GiB deviceMemoryBandwidth: 13.41GiB/s\n",
      "2021-06-03 19:06:45.638439: W tensorflow/stream_executor/platform/default/dso_loader.cc:60] Could not load dynamic library 'cudart64_110.dll'; dlerror: cudart64_110.dll not found\n",
      "2021-06-03 19:06:45.642217: W tensorflow/stream_executor/platform/default/dso_loader.cc:60] Could not load dynamic library 'cublas64_11.dll'; dlerror: cublas64_11.dll not found\n",
      "2021-06-03 19:06:45.645399: W tensorflow/stream_executor/platform/default/dso_loader.cc:60] Could not load dynamic library 'cublasLt64_11.dll'; dlerror: cublasLt64_11.dll not found\n",
      "2021-06-03 19:06:45.650987: W tensorflow/stream_executor/platform/default/dso_loader.cc:60] Could not load dynamic library 'cufft64_10.dll'; dlerror: cufft64_10.dll not found\n",
      "2021-06-03 19:06:45.654116: W tensorflow/stream_executor/platform/default/dso_loader.cc:60] Could not load dynamic library 'curand64_10.dll'; dlerror: curand64_10.dll not found\n",
      "2021-06-03 19:06:45.657457: W tensorflow/stream_executor/platform/default/dso_loader.cc:60] Could not load dynamic library 'cusolver64_10.dll'; dlerror: cusolver64_10.dll not found\n",
      "2021-06-03 19:06:45.660602: W tensorflow/stream_executor/platform/default/dso_loader.cc:60] Could not load dynamic library 'cusparse64_11.dll'; dlerror: cusparse64_11.dll not found\n",
      "2021-06-03 19:06:45.664671: W tensorflow/stream_executor/platform/default/dso_loader.cc:60] Could not load dynamic library 'cudnn64_8.dll'; dlerror: cudnn64_8.dll not found\n",
      "2021-06-03 19:06:45.666110: W tensorflow/core/common_runtime/gpu/gpu_device.cc:1757] Cannot dlopen some GPU libraries. Please make sure the missing libraries mentioned above are installed properly if you would like to use GPU. Follow the guide at https://www.tensorflow.org/install/gpu for how to download and setup the required libraries for your platform.\n",
      "Skipping registering GPU devices...\n",
      "2021-06-03 19:06:45.884678: I tensorflow/core/common_runtime/gpu/gpu_device.cc:1261] Device interconnect StreamExecutor with strength 1 edge matrix:\n",
      "2021-06-03 19:06:45.885296: I tensorflow/core/common_runtime/gpu/gpu_device.cc:1267]      0 \n",
      "2021-06-03 19:06:45.885769: I tensorflow/core/common_runtime/gpu/gpu_device.cc:1280] 0:   N \n",
      "2021-06-03 19:06:45.886326: I tensorflow/compiler/jit/xla_gpu_device.cc:99] Not creating XLA devices, tf_xla_enable_xla_devices not set\n",
      "2021-06-03 19:06:47.341727: I tensorflow/core/grappler/optimizers/meta_optimizer.cc:928] Optimization results for grappler item: graph_to_optimize\n",
      "  function_optimizer: function_optimizer did nothing. time = 0.002ms.\n",
      "  function_optimizer: function_optimizer did nothing. time = 0ms.\n",
      "\n",
      "2021-06-03 19:06:56.648833: I tensorflow/core/grappler/optimizers/meta_optimizer.cc:928] Optimization results for grappler item: graph_to_optimize\n",
      "  debug_stripper: debug_stripper did nothing. time = 0.01ms.\n",
      "  model_pruner: Graph size after: 207 nodes (-38), 241 edges (-38), time = 4.552ms.\n",
      "  constant_folding: Graph size after: 207 nodes (0), 241 edges (0), time = 14.337ms.\n",
      "  arithmetic_optimizer: Graph size after: 207 nodes (0), 241 edges (0), time = 31.75ms.\n",
      "  dependency_optimizer: Graph size after: 186 nodes (-21), 206 edges (-35), time = 6.995ms.\n",
      "  model_pruner: Graph size after: 186 nodes (0), 206 edges (0), time = 5.461ms.\n",
      "  constant_folding: Graph size after: 186 nodes (0), 206 edges (0), time = 6.542ms.\n",
      "  arithmetic_optimizer: Graph size after: 186 nodes (0), 206 edges (0), time = 4.023ms.\n",
      "  dependency_optimizer: Graph size after: 186 nodes (0), 206 edges (0), time = 2.109ms.\n",
      "  debug_stripper: debug_stripper did nothing. time = 0.461ms.\n",
      "  model_pruner: Graph size after: 186 nodes (0), 206 edges (0), time = 1.573ms.\n",
      "  constant_folding: Graph size after: 186 nodes (0), 206 edges (0), time = 7.926ms.\n",
      "  arithmetic_optimizer: Graph size after: 186 nodes (0), 206 edges (0), time = 5.177ms.\n",
      "  dependency_optimizer: Graph size after: 186 nodes (0), 206 edges (0), time = 3.127ms.\n",
      "  model_pruner: Graph size after: 186 nodes (0), 206 edges (0), time = 1.686ms.\n",
      "  constant_folding: Graph size after: 186 nodes (0), 206 edges (0), time = 5.92ms.\n",
      "  arithmetic_optimizer: Graph size after: 186 nodes (0), 206 edges (0), time = 6.886ms.\n",
      "  dependency_optimizer: Graph size after: 186 nodes (0), 206 edges (0), time = 3.534ms.\n",
      "\n",
      "WARNING:tensorflow:Didn't find expected Conv2D or DepthwiseConv2dNative input to 'batch_normalization_18/FusedBatchNormV3'\n",
      "WARNING:tensorflow:Didn't find expected Conv2D or DepthwiseConv2dNative input to 'batch_normalization_19/FusedBatchNormV3'\n",
      "WARNING:tensorflow:Didn't find expected Conv2D or DepthwiseConv2dNative input to 'batch_normalization_20/FusedBatchNormV3'\n",
      "WARNING:tensorflow:Didn't find expected Conv2D or DepthwiseConv2dNative input to 'batch_normalization_21/FusedBatchNormV3'\n",
      "WARNING:tensorflow:Didn't find expected Conv2D or DepthwiseConv2dNative input to 'batch_normalization_22/FusedBatchNormV3'\n",
      "WARNING:tensorflow:Didn't find expected Conv2D or DepthwiseConv2dNative input to 'batch_normalization_23/FusedBatchNormV3'\n",
      "2021-06-03 19:06:56.980254: I tensorflow/core/grappler/optimizers/meta_optimizer.cc:928] Optimization results for grappler item: graph_to_optimize\n",
      "  remapper: Graph size after: 258 nodes (72), 308 edges (102), time = 26.308ms.\n",
      "  constant_folding: Graph size after: 186 nodes (-72), 212 edges (-96), time = 20.885ms.\n",
      "  arithmetic_optimizer: Graph size after: 186 nodes (0), 212 edges (0), time = 5.566ms.\n",
      "  dependency_optimizer: Graph size after: 180 nodes (-6), 200 edges (-12), time = 2.69ms.\n",
      "  remapper: Graph size after: 180 nodes (0), 200 edges (0), time = 1.698ms.\n",
      "  constant_folding: Graph size after: 180 nodes (0), 200 edges (0), time = 8.863ms.\n",
      "  arithmetic_optimizer: Graph size after: 180 nodes (0), 200 edges (0), time = 5.881ms.\n",
      "  dependency_optimizer: Graph size after: 180 nodes (0), 200 edges (0), time = 3.674ms.\n",
      "\n"
     ]
    }
   ],
   "source": [
    "!tensorflowjs_converter \\\n",
    "    --input_format=tf_saved_model \\\n",
    "    --output_format=tfjs_graph_model \\\n",
    "    --signature_name=serving_default \\\n",
    "    --saved_model_tags=serve \\\n",
    "    ./keras_estimator_savedmodel/1622721938 \\\n",
    "    ./keras_estimator_savedmodel/json_model"
   ]
  },
  {
   "cell_type": "code",
   "execution_count": null,
   "metadata": {},
   "outputs": [],
   "source": []
  }
 ],
 "metadata": {
  "kernelspec": {
   "display_name": "Python 3",
   "language": "python",
   "name": "python3"
  },
  "language_info": {
   "codemirror_mode": {
    "name": "ipython",
    "version": 3
   },
   "file_extension": ".py",
   "mimetype": "text/x-python",
   "name": "python",
   "nbconvert_exporter": "python",
   "pygments_lexer": "ipython3",
   "version": "3.8.5"
  }
 },
 "nbformat": 4,
 "nbformat_minor": 4
}
