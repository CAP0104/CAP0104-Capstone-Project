{
 "cells": [
  {
   "cell_type": "code",
   "execution_count": 1,
   "metadata": {},
   "outputs": [],
   "source": [
    "import csv\n",
    "import pandas as pd\n",
    "from datetime import datetime"
   ]
  },
  {
   "cell_type": "code",
   "execution_count": 2,
   "metadata": {},
   "outputs": [],
   "source": [
    "train_df = pd.read_csv('train.csv', nrows=500000)\n",
    "train_df.to_csv('train_500k.csv', index=False, mode='w')"
   ]
  },
  {
   "cell_type": "code",
   "execution_count": 3,
   "metadata": {},
   "outputs": [],
   "source": [
    "def clean_data(input_data_path='train_500k.csv', output_data_path='train_cleaned.csv'):\n",
    "    with open(input_data_path, 'r') as inp, open(output_data_path, 'w', newline='') as out:\n",
    "        writer = csv.writer(out)\n",
    "        csv_reader = csv.reader(inp)\n",
    "        # Skip header\n",
    "        next(csv_reader)\n",
    "        for row in csv_reader:\n",
    "            # Only rows with non-null values\n",
    "            if len(row) == 8:\n",
    "                try:\n",
    "                    fare_amount = float(row[1])\n",
    "                    pickup_longitude = float(row[3])\n",
    "                    pickup_latitude = float(row[4])\n",
    "                    dropoff_longitude = float(row[5])\n",
    "                    dropoff_latitude = float(row[6])\n",
    "                    passenger_count = float(row[7])\n",
    "                    if ((-76 <= pickup_longitude <= -72) and (-76 <= dropoff_longitude <= -72) and\n",
    "                            (38 <= pickup_latitude <= 42) and (38 <= dropoff_latitude <= 42) and\n",
    "                            (1 <= passenger_count <= 6) and (0 < fare_amount <= 300) and\n",
    "                            (pickup_longitude != dropoff_longitude) and (pickup_latitude != dropoff_latitude)):\n",
    "                        writer.writerow(row)\n",
    "                except:\n",
    "                    pass"
   ]
  },
  {
   "cell_type": "code",
   "execution_count": 4,
   "metadata": {},
   "outputs": [],
   "source": [
    "def pre_process_train_data(input_data_path, output_data_path):\n",
    "    with open(input_data_path, 'r') as inp, open(output_data_path, 'w', newline='') as out:\n",
    "        writer = csv.writer(out)\n",
    "        for row in csv.reader(inp):\n",
    "            pickup_datetime = datetime.strptime(row[2], '%Y-%m-%d %H:%M:%S %Z')\n",
    "            hour = pickup_datetime.hour\n",
    "            weekday = pickup_datetime.weekday()\n",
    "            night = 0\n",
    "            late_night = 0\n",
    "            if ((hour <= 20) or (hour >= 16)) and (weekday < 5):\n",
    "                night = 1\n",
    "            if (hour <= 6) or (hour >= 20):\n",
    "                late_night = 1\n",
    "            row.append(pickup_datetime.year)\n",
    "            row.append(pickup_datetime.month)\n",
    "            row.append(pickup_datetime.day)\n",
    "            row.append(hour)\n",
    "            row.append(weekday)\n",
    "            row.append(night)\n",
    "            row.append(late_night)\n",
    "            writer.writerow(row)"
   ]
  },
  {
   "cell_type": "code",
   "execution_count": 5,
   "metadata": {},
   "outputs": [],
   "source": [
    "def pre_process_test_data(input_data_path, output_data_path):\n",
    "    with open(input_data_path, 'r') as inp, open(output_data_path, 'w', newline='') as out:\n",
    "        writer = csv.writer(out)\n",
    "        csv_reader = csv.reader(inp)\n",
    "        # Skip header\n",
    "        next(csv_reader)\n",
    "        for row in csv_reader:\n",
    "            pickup_datetime = datetime.strptime(row[1], '%Y-%m-%d %H:%M:%S %Z')\n",
    "            hour = pickup_datetime.hour\n",
    "            weekday = pickup_datetime.weekday()\n",
    "            night = 0\n",
    "            late_night = 0\n",
    "            if ((hour <= 20) or (hour >= 16)) and (weekday < 5):\n",
    "                night = 1\n",
    "            if (hour <= 6) or (hour >= 20):\n",
    "                late_night = 1\n",
    "            row.append(pickup_datetime.year)\n",
    "            row.append(pickup_datetime.month)\n",
    "            row.append(pickup_datetime.day)\n",
    "            row.append(hour)\n",
    "            row.append(weekday)\n",
    "            row.append(night)\n",
    "            row.append(late_night)\n",
    "            writer.writerow(row)"
   ]
  },
  {
   "cell_type": "code",
   "execution_count": 6,
   "metadata": {},
   "outputs": [],
   "source": [
    "def split_data(input_data_path, train_data_path,\n",
    "               validation_data_path, ratio=30):\n",
    "    with open(input_data_path, 'r') as inp, open(train_data_path, 'w', newline='') as out1, \\\n",
    "            open(validation_data_path, 'w', newline='') as out2:\n",
    "        writer1 = csv.writer(out1)\n",
    "        writer2 = csv.writer(out2)\n",
    "        count = 0\n",
    "        for row in csv.reader(inp):\n",
    "            if count % ratio == 0:\n",
    "                writer2.writerow(row)\n",
    "            else:\n",
    "                writer1.writerow(row)\n",
    "            count += 1"
   ]
  },
  {
   "cell_type": "code",
   "execution_count": 7,
   "metadata": {},
   "outputs": [],
   "source": [
    "clean_data('train_500k.csv', 'train_cleaned.csv')\n",
    "pre_process_train_data('train_cleaned.csv', 'train_processed.csv')\n",
    "pre_process_test_data('test.csv', 'test_processed.csv')\n",
    "split_data(input_data_path='train_processed.csv', train_data_path='tf_train.csv',\n",
    "               validation_data_path='tf_validation.csv', ratio=30)"
   ]
  },
  {
   "cell_type": "code",
   "execution_count": null,
   "metadata": {},
   "outputs": [],
   "source": []
  }
 ],
 "metadata": {
  "kernelspec": {
   "display_name": "Python 3",
   "language": "python",
   "name": "python3"
  },
  "language_info": {
   "codemirror_mode": {
    "name": "ipython",
    "version": 3
   },
   "file_extension": ".py",
   "mimetype": "text/x-python",
   "name": "python",
   "nbconvert_exporter": "python",
   "pygments_lexer": "ipython3",
   "version": "3.8.5"
  }
 },
 "nbformat": 4,
 "nbformat_minor": 4
}
