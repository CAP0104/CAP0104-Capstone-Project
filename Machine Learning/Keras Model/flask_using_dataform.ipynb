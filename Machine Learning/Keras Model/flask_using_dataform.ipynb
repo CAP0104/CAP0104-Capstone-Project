{
 "cells": [
  {
   "cell_type": "code",
   "execution_count": 1,
   "metadata": {},
   "outputs": [],
   "source": [
    "from flask import Flask, make_response, request, render_template\n",
    "import io\n",
    "from io import StringIO\n",
    "import csv\n",
    "import pandas as pd\n",
    "import numpy as np\n",
    "from datetime import datetime\n",
    "import os\n",
    "from keras.models import load_model\n",
    "from flask_model import preprocess\n",
    "\n",
    "app = Flask(__name__)"
   ]
  },
  {
   "cell_type": "code",
   "execution_count": 2,
   "metadata": {},
   "outputs": [],
   "source": [
    "@app.route('/')\n",
    "def form():\n",
    "    return \"\"\"\n",
    "        <html>\n",
    "            <body>\n",
    "                <h1>Fare Prediction</h1>\n",
    "                </br>\n",
    "                </br>\n",
    "                <p> Insert your CSV file and then download the Result\n",
    "                <form action=\"/predict\" method=\"post\" enctype=\"multipart/form-data\">\n",
    "                    <input type=\"file\" name=\"data_file\" class=\"btn btn-block\"/>\n",
    "                    </br>\n",
    "                    </br>\n",
    "                    <button type=\"submit\" class=\"btn btn-primary btn-block btn-large\">Predict</button>\n",
    "                </form>\n",
    "            </body>\n",
    "        </html>\n",
    "    \"\"\""
   ]
  },
  {
   "cell_type": "code",
   "execution_count": 3,
   "metadata": {},
   "outputs": [],
   "source": [
    "@app.route('/predict', methods=[\"POST\"])\n",
    "def transform_view():\n",
    "    if request.method == 'POST':\n",
    "        f = request.files['data_file']\n",
    "        if not f:\n",
    "            return \"No file\"\n",
    "    \n",
    "    stream = io.StringIO(f.stream.read().decode(\"UTF8\"), newline=None)\n",
    "    csv_input = csv.reader(stream)\n",
    "    stream.seek(0)\n",
    "    result = stream.read()\n",
    "    \n",
    "    dtype_test = {'key': 'str',\n",
    "             'pickup_datetime': 'str',\n",
    "             'pickup_longitude': 'float32',\n",
    "             'pickup_latitude': 'float32',\n",
    "             'dropoff_longitude': 'float32',\n",
    "             'dropoff_latitude': 'float32',\n",
    "             'passenger_count': 'uint8',\n",
    "             'year': 'uint16',\n",
    "             'month': 'uint8',\n",
    "             'day': 'uint8',\n",
    "             'hour': 'uint8',\n",
    "             'weekday': 'uint8',\n",
    "             'night': 'uint8',\n",
    "             'late_night': 'uint8'}\n",
    "\n",
    "    dnames_test = ['key', 'pickup_datetime', 'pickup_longitude', 'pickup_latitude', 'dropoff_longitude', 'dropoff_latitude',\n",
    "              'passenger_count', 'year', 'month', 'day', 'hour', 'weekday', 'night', 'late_night']\n",
    "    \n",
    "    data_test = pd.read_csv(StringIO(result), names=dnames_test, dtype=dtype_test, usecols=[0, 1, 2, 3, 4, 5, 7, 8, 9, 10, 11, 12, 13])\n",
    "    \n",
    "    # load the model from disk\n",
    "    model = load_model('keras_model.h5')\n",
    "    df = preprocess(data_test)\n",
    "    prediction = model.predict(df)\n",
    "    df_predict = pd.DataFrame(prediction, columns=[\"prediction\"])\n",
    "    df_predict.to_csv(\"prediction.csv\", index=False, header=False, encoding='utf8')\n",
    "    \n",
    "    response = make_response(df_predict.to_csv())\n",
    "    response.headers[\"Content-Disposition\"] = \"attachment; filename=result.csv\"\n",
    "    return response"
   ]
  },
  {
   "cell_type": "code",
   "execution_count": 4,
   "metadata": {},
   "outputs": [
    {
     "name": "stdout",
     "output_type": "stream",
     "text": [
      " * Serving Flask app '__main__' (lazy loading)\n",
      " * Environment: production\n",
      "   WARNING: This is a development server. Do not use it in a production deployment.\n",
      "   Use a production WSGI server instead.\n",
      " * Debug mode: off\n"
     ]
    },
    {
     "name": "stderr",
     "output_type": "stream",
     "text": [
      " * Running on http://127.0.0.1:5000/ (Press CTRL+C to quit)\n",
      "127.0.0.1 - - [08/Jun/2021 22:08:31] \"GET / HTTP/1.1\" 200 -\n",
      "127.0.0.1 - - [08/Jun/2021 22:09:14] \"POST /predict HTTP/1.1\" 200 -\n"
     ]
    }
   ],
   "source": [
    "if (__name__ == \"__main__\"):\n",
    "     app.run(port = 5000, use_reloader=False)"
   ]
  },
  {
   "cell_type": "code",
   "execution_count": null,
   "metadata": {},
   "outputs": [],
   "source": []
  }
 ],
 "metadata": {
  "kernelspec": {
   "display_name": "Python 3",
   "language": "python",
   "name": "python3"
  },
  "language_info": {
   "codemirror_mode": {
    "name": "ipython",
    "version": 3
   },
   "file_extension": ".py",
   "mimetype": "text/x-python",
   "name": "python",
   "nbconvert_exporter": "python",
   "pygments_lexer": "ipython3",
   "version": "3.8.5"
  }
 },
 "nbformat": 4,
 "nbformat_minor": 4
}
