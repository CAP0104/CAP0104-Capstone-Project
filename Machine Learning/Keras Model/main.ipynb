{
 "cells": [
  {
   "cell_type": "code",
   "execution_count": null,
   "metadata": {},
   "outputs": [],
   "source": [
    "from flask import Flask, make_response, request\n",
    "import io\n",
    "from io import StringIO\n",
    "import csv\n",
    "import pandas as pd\n",
    "import numpy as np\n",
    "import os\n",
    "from keras.models import load_model\n",
    "from flask_model import preprocess\n",
    "\n",
    "app = Flask(__name__)"
   ]
  },
  {
   "cell_type": "code",
   "execution_count": null,
   "metadata": {},
   "outputs": [],
   "source": [
    "@app.route(\"/\")\n",
    "def home():\n",
    "    return \"Kiri-mas was here\""
   ]
  },
  {
   "cell_type": "code",
   "execution_count": null,
   "metadata": {},
   "outputs": [],
   "source": [
    "@app.route(\"/predict\", methods=[\"POST\"])\n",
    "def predict():\n",
    "    if request.method == 'POST':\n",
    "        f = request.files['data_file']\n",
    "        if not f:\n",
    "            return \"No file\"\n",
    "        \n",
    "    stream = io.StringIO(f.stream.read().decode(\"UTF8\"), newline=None)\n",
    "    csv_input = csv.reader(stream)\n",
    "    stream.seek(0)\n",
    "    result = stream.read()\n",
    "    \n",
    "    dtype_test = {'key': 'str',\n",
    "             'pickup_datetime': 'str',\n",
    "             'pickup_longitude': 'float32',\n",
    "             'pickup_latitude': 'float32',\n",
    "             'dropoff_longitude': 'float32',\n",
    "             'dropoff_latitude': 'float32',\n",
    "             'passenger_count': 'uint8',\n",
    "             'year': 'uint16',\n",
    "             'month': 'uint8',\n",
    "             'day': 'uint8',\n",
    "             'hour': 'uint8',\n",
    "             'weekday': 'uint8',\n",
    "             'night': 'uint8',\n",
    "             'late_night': 'uint8'}\n",
    "\n",
    "    dnames_test = ['key', 'pickup_datetime', 'pickup_longitude', 'pickup_latitude', 'dropoff_longitude', 'dropoff_latitude',\n",
    "              'passenger_count', 'year', 'month', 'day', 'hour', 'weekday', 'night', 'late_night']\n",
    "    \n",
    "    data_test = pd.read_csv(StringIO(result), names=dnames_test, dtype=dtype_test, usecols=[0, 1, 2, 3, 4, 5, 7, 8, 9, 10, 11, 12, 13])\n",
    "    \n",
    "    # load the model from disk\n",
    "    model = load_model('keras_model.h5')\n",
    "    df = preprocess(data_test)\n",
    "    prediction = model.predict(df)\n",
    "    df_predict = pd.DataFrame(prediction, columns=[\"prediction\"])\n",
    "    response = df_predict.to_json()\n",
    "    return response"
   ]
  },
  {
   "cell_type": "code",
   "execution_count": null,
   "metadata": {},
   "outputs": [],
   "source": [
    "if (__name__ == \"__main__\"):\n",
    "     app.run(port = 5000, use_reloader=False, debug=False)"
   ]
  },
  {
   "cell_type": "code",
   "execution_count": null,
   "metadata": {},
   "outputs": [],
   "source": []
  }
 ],
 "metadata": {
  "kernelspec": {
   "display_name": "Python 3",
   "language": "python",
   "name": "python3"
  },
  "language_info": {
   "codemirror_mode": {
    "name": "ipython",
    "version": 3
   },
   "file_extension": ".py",
   "mimetype": "text/x-python",
   "name": "python",
   "nbconvert_exporter": "python",
   "pygments_lexer": "ipython3",
   "version": "3.8.5"
  }
 },
 "nbformat": 4,
 "nbformat_minor": 4
}
