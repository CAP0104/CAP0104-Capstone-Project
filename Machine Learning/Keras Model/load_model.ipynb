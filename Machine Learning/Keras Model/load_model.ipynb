{
 "cells": [
  {
   "cell_type": "code",
   "execution_count": 1,
   "metadata": {},
   "outputs": [],
   "source": [
    "import tensorflow as tf\n",
    "from tensorflow import keras\n",
    "import pandas as pd\n",
    "import numpy as np\n",
    "from sklearn import preprocessing\n",
    "from sklearn.model_selection import train_test_split\n",
    "model = tf.keras.models.load_model('keras_model.h5', compile=False)\n",
    "\n",
    "import warnings\n",
    "warnings.filterwarnings('ignore')"
   ]
  },
  {
   "cell_type": "code",
   "execution_count": 5,
   "metadata": {},
   "outputs": [],
   "source": [
    "def preprocess(filename):\n",
    "    \n",
    "    def process(df):\n",
    "        df['pickup_longitude_binned'] = pd.qcut(df['pickup_longitude'], 16, labels=False)\n",
    "        df['dropoff_longitude_binned'] = pd.qcut(df['dropoff_longitude'], 16, labels=False)\n",
    "        df['pickup_latitude_binned'] = pd.qcut(df['pickup_latitude'], 16, labels=False)\n",
    "        df['dropoff_latitude_binned'] = pd.qcut(df['dropoff_latitude'], 16, labels=False)\n",
    "\n",
    "        df = df.drop('pickup_datetime', axis=1)\n",
    "        return df\n",
    "\n",
    "    def manhattan(pickup_lat, pickup_long, dropoff_lat, dropoff_long):\n",
    "        return np.abs(dropoff_lat - pickup_lat) + np.abs(dropoff_long - pickup_long)\n",
    "    \n",
    "    def add_relevant_distances(df):\n",
    "    # Add airpot distances and downtown\n",
    "        ny = (-74.0063889, 40.7141667)\n",
    "        jfk = (-73.7822222222, 40.6441666667)\n",
    "        ewr = (-74.175, 40.69)\n",
    "        lgr = (-73.87, 40.77)\n",
    "        df['downtown_pickup_distance'] = manhattan(ny[1], ny[0], df['pickup_latitude'], df['pickup_longitude'])\n",
    "        df['downtown_dropoff_distance'] = manhattan(ny[1], ny[0], df['dropoff_latitude'], df['dropoff_longitude'])\n",
    "        df['jfk_pickup_distance'] = manhattan(jfk[1], jfk[0], df['pickup_latitude'], df['pickup_longitude'])\n",
    "        df['jfk_dropoff_distance'] = manhattan(jfk[1], jfk[0], df['dropoff_latitude'], df['dropoff_longitude'])\n",
    "        df['ewr_pickup_distance'] = manhattan(ewr[1], ewr[0], df['pickup_latitude'], df['pickup_longitude'])\n",
    "        df['ewr_dropoff_distance'] = manhattan(ewr[1], ewr[0], df['dropoff_latitude'], df['dropoff_longitude'])\n",
    "        df['lgr_pickup_distance'] = manhattan(lgr[1], lgr[0], df['pickup_latitude'], df['pickup_longitude'])\n",
    "        df['lgr_dropoff_distance'] = manhattan(lgr[1], lgr[0], df['dropoff_latitude'], df['dropoff_longitude'])\n",
    "        return df\n",
    "    \n",
    "    def add_engineered(df):\n",
    "        lat1 = df['pickup_latitude']\n",
    "        lat2 = df['dropoff_latitude']\n",
    "        lon1 = df['pickup_longitude']\n",
    "        lon2 = df['dropoff_longitude']\n",
    "        latdiff = (lat1 - lat2)\n",
    "        londiff = (lon1 - lon2)\n",
    "        euclidean = (latdiff ** 2 + londiff ** 2) ** 0.5\n",
    "\n",
    "        # Add new features\n",
    "        df['latdiff'] = latdiff\n",
    "        df['londiff'] = londiff\n",
    "        df['euclidean'] = euclidean\n",
    "        df['manhattan'] = manhattan(lat1, lon1, lat2, lon2)\n",
    "\n",
    "        # One-hot encoding columns\n",
    "        # Note, this is note the best way to one-hot encode features, but probably the simplest and will work here\n",
    "        df = pd.get_dummies(df, columns=['weekday'])\n",
    "        df = pd.get_dummies(df, columns=['month'])\n",
    "        return df\n",
    "    \n",
    "    dtype_test = {'key': 'str',\n",
    "             'pickup_datetime': 'str',\n",
    "             'pickup_longitude': 'float32',\n",
    "             'pickup_latitude': 'float32',\n",
    "             'dropoff_longitude': 'float32',\n",
    "             'dropoff_latitude': 'float32',\n",
    "             'passenger_count': 'uint8',\n",
    "             'year': 'uint16',\n",
    "             'month': 'uint8',\n",
    "             'day': 'uint8',\n",
    "             'hour': 'uint8',\n",
    "             'weekday': 'uint8',\n",
    "             'night': 'uint8',\n",
    "             'late_night': 'uint8'}\n",
    "\n",
    "    dnames_test = ['key', 'pickup_datetime', 'pickup_longitude', 'pickup_latitude', 'dropoff_longitude', 'dropoff_latitude',\n",
    "              'passenger_count', 'year', 'month', 'day', 'hour', 'weekday', 'night', 'late_night']\n",
    "\n",
    "    dropped_columns = ['pickup_longitude', 'pickup_latitude',\n",
    "                   'dropoff_longitude', 'dropoff_latitude']\n",
    "    \n",
    "    df = pd.read_csv(filename, names=dnames_test, dtype=dtype_test, usecols=[0, 1, 2, 3, 4, 5, 7, 8, 9, 10, 11, 12, 13])\n",
    "    df = process(df)\n",
    "    df = add_relevant_distances(df)\n",
    "    df = add_engineered(df)\n",
    "    df = df.drop(dropped_columns + ['key'], axis=1)\n",
    "    scaler = preprocessing.MinMaxScaler()\n",
    "    df = scaler.fit_transform(df).astype(np.float32)\n",
    "    \n",
    "    return df"
   ]
  },
  {
   "cell_type": "code",
   "execution_count": 6,
   "metadata": {},
   "outputs": [],
   "source": [
    "def predict(data):\n",
    "    prediction = model.predict(data)\n",
    "    return prediction"
   ]
  },
  {
   "cell_type": "code",
   "execution_count": 7,
   "metadata": {},
   "outputs": [
    {
     "name": "stdout",
     "output_type": "stream",
     "text": [
      "[[ 9.327227 ]\n",
      " [12.019987 ]\n",
      " [ 3.4538639]\n",
      " ...\n",
      " [67.724335 ]\n",
      " [29.282303 ]\n",
      " [ 6.5039806]]\n"
     ]
    }
   ],
   "source": [
    "if __name__ == '__main__':\n",
    "    ''' for test'''\n",
    "    test = preprocess('test_processed.csv')\n",
    "    prediction = predict(test)\n",
    "    print(prediction)"
   ]
  },
  {
   "cell_type": "code",
   "execution_count": null,
   "metadata": {},
   "outputs": [],
   "source": []
  }
 ],
 "metadata": {
  "kernelspec": {
   "display_name": "Python 3",
   "language": "python",
   "name": "python3"
  },
  "language_info": {
   "codemirror_mode": {
    "name": "ipython",
    "version": 3
   },
   "file_extension": ".py",
   "mimetype": "text/x-python",
   "name": "python",
   "nbconvert_exporter": "python",
   "pygments_lexer": "ipython3",
   "version": "3.8.5"
  }
 },
 "nbformat": 4,
 "nbformat_minor": 4
}
